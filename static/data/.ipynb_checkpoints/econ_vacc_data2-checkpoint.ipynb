{
 "cells": [
  {
   "cell_type": "code",
   "execution_count": 1,
   "id": "fa405c97",
   "metadata": {},
   "outputs": [],
   "source": [
    "import pandas as pd\n",
    "import pymongo\n",
    "from pymongo import MongoClient"
   ]
  },
  {
   "cell_type": "code",
   "execution_count": 2,
   "id": "bfcb30f3",
   "metadata": {},
   "outputs": [],
   "source": [
    "#import all 3 csv\n",
    "census_data = \"census_data.csv\"\n",
    "state_vacc = \"state_vacc.csv\"\n",
    "state_abrev = \"state_abrev.csv\""
   ]
  },
  {
   "cell_type": "code",
   "execution_count": 4,
   "id": "8e54fdd7",
   "metadata": {},
   "outputs": [
    {
     "ename": "FileNotFoundError",
     "evalue": "[Errno 2] No such file or directory: 'state_abrev.csv'",
     "output_type": "error",
     "traceback": [
      "\u001b[0;31m---------------------------------------------------------------------------\u001b[0m",
      "\u001b[0;31mFileNotFoundError\u001b[0m                         Traceback (most recent call last)",
      "\u001b[0;32m<ipython-input-4-e5d158f23e0c>\u001b[0m in \u001b[0;36m<module>\u001b[0;34m\u001b[0m\n\u001b[1;32m      2\u001b[0m \u001b[0mcensus_df\u001b[0m \u001b[0;34m=\u001b[0m \u001b[0mpd\u001b[0m\u001b[0;34m.\u001b[0m\u001b[0mread_csv\u001b[0m\u001b[0;34m(\u001b[0m\u001b[0mcensus_data\u001b[0m\u001b[0;34m)\u001b[0m\u001b[0;34m\u001b[0m\u001b[0;34m\u001b[0m\u001b[0m\n\u001b[1;32m      3\u001b[0m \u001b[0mstate_vacc_df\u001b[0m \u001b[0;34m=\u001b[0m \u001b[0mpd\u001b[0m\u001b[0;34m.\u001b[0m\u001b[0mread_csv\u001b[0m\u001b[0;34m(\u001b[0m\u001b[0mstate_vacc\u001b[0m\u001b[0;34m)\u001b[0m\u001b[0;34m\u001b[0m\u001b[0;34m\u001b[0m\u001b[0m\n\u001b[0;32m----> 4\u001b[0;31m \u001b[0mstate_abrev_df\u001b[0m \u001b[0;34m=\u001b[0m \u001b[0mpd\u001b[0m\u001b[0;34m.\u001b[0m\u001b[0mread_csv\u001b[0m\u001b[0;34m(\u001b[0m\u001b[0mstate_abrev\u001b[0m\u001b[0;34m)\u001b[0m\u001b[0;34m\u001b[0m\u001b[0;34m\u001b[0m\u001b[0m\n\u001b[0m",
      "\u001b[0;32m~/Desktop/Local/anaconda3/lib/python3.8/site-packages/pandas/io/parsers.py\u001b[0m in \u001b[0;36mread_csv\u001b[0;34m(filepath_or_buffer, sep, delimiter, header, names, index_col, usecols, squeeze, prefix, mangle_dupe_cols, dtype, engine, converters, true_values, false_values, skipinitialspace, skiprows, skipfooter, nrows, na_values, keep_default_na, na_filter, verbose, skip_blank_lines, parse_dates, infer_datetime_format, keep_date_col, date_parser, dayfirst, cache_dates, iterator, chunksize, compression, thousands, decimal, lineterminator, quotechar, quoting, doublequote, escapechar, comment, encoding, dialect, error_bad_lines, warn_bad_lines, delim_whitespace, low_memory, memory_map, float_precision, storage_options)\u001b[0m\n\u001b[1;32m    608\u001b[0m     \u001b[0mkwds\u001b[0m\u001b[0;34m.\u001b[0m\u001b[0mupdate\u001b[0m\u001b[0;34m(\u001b[0m\u001b[0mkwds_defaults\u001b[0m\u001b[0;34m)\u001b[0m\u001b[0;34m\u001b[0m\u001b[0;34m\u001b[0m\u001b[0m\n\u001b[1;32m    609\u001b[0m \u001b[0;34m\u001b[0m\u001b[0m\n\u001b[0;32m--> 610\u001b[0;31m     \u001b[0;32mreturn\u001b[0m \u001b[0m_read\u001b[0m\u001b[0;34m(\u001b[0m\u001b[0mfilepath_or_buffer\u001b[0m\u001b[0;34m,\u001b[0m \u001b[0mkwds\u001b[0m\u001b[0;34m)\u001b[0m\u001b[0;34m\u001b[0m\u001b[0;34m\u001b[0m\u001b[0m\n\u001b[0m\u001b[1;32m    611\u001b[0m \u001b[0;34m\u001b[0m\u001b[0m\n\u001b[1;32m    612\u001b[0m \u001b[0;34m\u001b[0m\u001b[0m\n",
      "\u001b[0;32m~/Desktop/Local/anaconda3/lib/python3.8/site-packages/pandas/io/parsers.py\u001b[0m in \u001b[0;36m_read\u001b[0;34m(filepath_or_buffer, kwds)\u001b[0m\n\u001b[1;32m    460\u001b[0m \u001b[0;34m\u001b[0m\u001b[0m\n\u001b[1;32m    461\u001b[0m     \u001b[0;31m# Create the parser.\u001b[0m\u001b[0;34m\u001b[0m\u001b[0;34m\u001b[0m\u001b[0;34m\u001b[0m\u001b[0m\n\u001b[0;32m--> 462\u001b[0;31m     \u001b[0mparser\u001b[0m \u001b[0;34m=\u001b[0m \u001b[0mTextFileReader\u001b[0m\u001b[0;34m(\u001b[0m\u001b[0mfilepath_or_buffer\u001b[0m\u001b[0;34m,\u001b[0m \u001b[0;34m**\u001b[0m\u001b[0mkwds\u001b[0m\u001b[0;34m)\u001b[0m\u001b[0;34m\u001b[0m\u001b[0;34m\u001b[0m\u001b[0m\n\u001b[0m\u001b[1;32m    463\u001b[0m \u001b[0;34m\u001b[0m\u001b[0m\n\u001b[1;32m    464\u001b[0m     \u001b[0;32mif\u001b[0m \u001b[0mchunksize\u001b[0m \u001b[0;32mor\u001b[0m \u001b[0miterator\u001b[0m\u001b[0;34m:\u001b[0m\u001b[0;34m\u001b[0m\u001b[0;34m\u001b[0m\u001b[0m\n",
      "\u001b[0;32m~/Desktop/Local/anaconda3/lib/python3.8/site-packages/pandas/io/parsers.py\u001b[0m in \u001b[0;36m__init__\u001b[0;34m(self, f, engine, **kwds)\u001b[0m\n\u001b[1;32m    817\u001b[0m             \u001b[0mself\u001b[0m\u001b[0;34m.\u001b[0m\u001b[0moptions\u001b[0m\u001b[0;34m[\u001b[0m\u001b[0;34m\"has_index_names\"\u001b[0m\u001b[0;34m]\u001b[0m \u001b[0;34m=\u001b[0m \u001b[0mkwds\u001b[0m\u001b[0;34m[\u001b[0m\u001b[0;34m\"has_index_names\"\u001b[0m\u001b[0;34m]\u001b[0m\u001b[0;34m\u001b[0m\u001b[0;34m\u001b[0m\u001b[0m\n\u001b[1;32m    818\u001b[0m \u001b[0;34m\u001b[0m\u001b[0m\n\u001b[0;32m--> 819\u001b[0;31m         \u001b[0mself\u001b[0m\u001b[0;34m.\u001b[0m\u001b[0m_engine\u001b[0m \u001b[0;34m=\u001b[0m \u001b[0mself\u001b[0m\u001b[0;34m.\u001b[0m\u001b[0m_make_engine\u001b[0m\u001b[0;34m(\u001b[0m\u001b[0mself\u001b[0m\u001b[0;34m.\u001b[0m\u001b[0mengine\u001b[0m\u001b[0;34m)\u001b[0m\u001b[0;34m\u001b[0m\u001b[0;34m\u001b[0m\u001b[0m\n\u001b[0m\u001b[1;32m    820\u001b[0m \u001b[0;34m\u001b[0m\u001b[0m\n\u001b[1;32m    821\u001b[0m     \u001b[0;32mdef\u001b[0m \u001b[0mclose\u001b[0m\u001b[0;34m(\u001b[0m\u001b[0mself\u001b[0m\u001b[0;34m)\u001b[0m\u001b[0;34m:\u001b[0m\u001b[0;34m\u001b[0m\u001b[0;34m\u001b[0m\u001b[0m\n",
      "\u001b[0;32m~/Desktop/Local/anaconda3/lib/python3.8/site-packages/pandas/io/parsers.py\u001b[0m in \u001b[0;36m_make_engine\u001b[0;34m(self, engine)\u001b[0m\n\u001b[1;32m   1048\u001b[0m             )\n\u001b[1;32m   1049\u001b[0m         \u001b[0;31m# error: Too many arguments for \"ParserBase\"\u001b[0m\u001b[0;34m\u001b[0m\u001b[0;34m\u001b[0m\u001b[0;34m\u001b[0m\u001b[0m\n\u001b[0;32m-> 1050\u001b[0;31m         \u001b[0;32mreturn\u001b[0m \u001b[0mmapping\u001b[0m\u001b[0;34m[\u001b[0m\u001b[0mengine\u001b[0m\u001b[0;34m]\u001b[0m\u001b[0;34m(\u001b[0m\u001b[0mself\u001b[0m\u001b[0;34m.\u001b[0m\u001b[0mf\u001b[0m\u001b[0;34m,\u001b[0m \u001b[0;34m**\u001b[0m\u001b[0mself\u001b[0m\u001b[0;34m.\u001b[0m\u001b[0moptions\u001b[0m\u001b[0;34m)\u001b[0m  \u001b[0;31m# type: ignore[call-arg]\u001b[0m\u001b[0;34m\u001b[0m\u001b[0;34m\u001b[0m\u001b[0m\n\u001b[0m\u001b[1;32m   1051\u001b[0m \u001b[0;34m\u001b[0m\u001b[0m\n\u001b[1;32m   1052\u001b[0m     \u001b[0;32mdef\u001b[0m \u001b[0m_failover_to_python\u001b[0m\u001b[0;34m(\u001b[0m\u001b[0mself\u001b[0m\u001b[0;34m)\u001b[0m\u001b[0;34m:\u001b[0m\u001b[0;34m\u001b[0m\u001b[0;34m\u001b[0m\u001b[0m\n",
      "\u001b[0;32m~/Desktop/Local/anaconda3/lib/python3.8/site-packages/pandas/io/parsers.py\u001b[0m in \u001b[0;36m__init__\u001b[0;34m(self, src, **kwds)\u001b[0m\n\u001b[1;32m   1865\u001b[0m \u001b[0;34m\u001b[0m\u001b[0m\n\u001b[1;32m   1866\u001b[0m         \u001b[0;31m# open handles\u001b[0m\u001b[0;34m\u001b[0m\u001b[0;34m\u001b[0m\u001b[0;34m\u001b[0m\u001b[0m\n\u001b[0;32m-> 1867\u001b[0;31m         \u001b[0mself\u001b[0m\u001b[0;34m.\u001b[0m\u001b[0m_open_handles\u001b[0m\u001b[0;34m(\u001b[0m\u001b[0msrc\u001b[0m\u001b[0;34m,\u001b[0m \u001b[0mkwds\u001b[0m\u001b[0;34m)\u001b[0m\u001b[0;34m\u001b[0m\u001b[0;34m\u001b[0m\u001b[0m\n\u001b[0m\u001b[1;32m   1868\u001b[0m         \u001b[0;32massert\u001b[0m \u001b[0mself\u001b[0m\u001b[0;34m.\u001b[0m\u001b[0mhandles\u001b[0m \u001b[0;32mis\u001b[0m \u001b[0;32mnot\u001b[0m \u001b[0;32mNone\u001b[0m\u001b[0;34m\u001b[0m\u001b[0;34m\u001b[0m\u001b[0m\n\u001b[1;32m   1869\u001b[0m         \u001b[0;32mfor\u001b[0m \u001b[0mkey\u001b[0m \u001b[0;32min\u001b[0m \u001b[0;34m(\u001b[0m\u001b[0;34m\"storage_options\"\u001b[0m\u001b[0;34m,\u001b[0m \u001b[0;34m\"encoding\"\u001b[0m\u001b[0;34m,\u001b[0m \u001b[0;34m\"memory_map\"\u001b[0m\u001b[0;34m,\u001b[0m \u001b[0;34m\"compression\"\u001b[0m\u001b[0;34m)\u001b[0m\u001b[0;34m:\u001b[0m\u001b[0;34m\u001b[0m\u001b[0;34m\u001b[0m\u001b[0m\n",
      "\u001b[0;32m~/Desktop/Local/anaconda3/lib/python3.8/site-packages/pandas/io/parsers.py\u001b[0m in \u001b[0;36m_open_handles\u001b[0;34m(self, src, kwds)\u001b[0m\n\u001b[1;32m   1360\u001b[0m         \u001b[0mLet\u001b[0m \u001b[0mthe\u001b[0m \u001b[0mreaders\u001b[0m \u001b[0mopen\u001b[0m \u001b[0mIOHanldes\u001b[0m \u001b[0mafter\u001b[0m \u001b[0mthey\u001b[0m \u001b[0mare\u001b[0m \u001b[0mdone\u001b[0m \u001b[0;32mwith\u001b[0m \u001b[0mtheir\u001b[0m \u001b[0mpotential\u001b[0m \u001b[0mraises\u001b[0m\u001b[0;34m.\u001b[0m\u001b[0;34m\u001b[0m\u001b[0;34m\u001b[0m\u001b[0m\n\u001b[1;32m   1361\u001b[0m         \"\"\"\n\u001b[0;32m-> 1362\u001b[0;31m         self.handles = get_handle(\n\u001b[0m\u001b[1;32m   1363\u001b[0m             \u001b[0msrc\u001b[0m\u001b[0;34m,\u001b[0m\u001b[0;34m\u001b[0m\u001b[0;34m\u001b[0m\u001b[0m\n\u001b[1;32m   1364\u001b[0m             \u001b[0;34m\"r\"\u001b[0m\u001b[0;34m,\u001b[0m\u001b[0;34m\u001b[0m\u001b[0;34m\u001b[0m\u001b[0m\n",
      "\u001b[0;32m~/Desktop/Local/anaconda3/lib/python3.8/site-packages/pandas/io/common.py\u001b[0m in \u001b[0;36mget_handle\u001b[0;34m(path_or_buf, mode, encoding, compression, memory_map, is_text, errors, storage_options)\u001b[0m\n\u001b[1;32m    640\u001b[0m                 \u001b[0merrors\u001b[0m \u001b[0;34m=\u001b[0m \u001b[0;34m\"replace\"\u001b[0m\u001b[0;34m\u001b[0m\u001b[0;34m\u001b[0m\u001b[0m\n\u001b[1;32m    641\u001b[0m             \u001b[0;31m# Encoding\u001b[0m\u001b[0;34m\u001b[0m\u001b[0;34m\u001b[0m\u001b[0;34m\u001b[0m\u001b[0m\n\u001b[0;32m--> 642\u001b[0;31m             handle = open(\n\u001b[0m\u001b[1;32m    643\u001b[0m                 \u001b[0mhandle\u001b[0m\u001b[0;34m,\u001b[0m\u001b[0;34m\u001b[0m\u001b[0;34m\u001b[0m\u001b[0m\n\u001b[1;32m    644\u001b[0m                 \u001b[0mioargs\u001b[0m\u001b[0;34m.\u001b[0m\u001b[0mmode\u001b[0m\u001b[0;34m,\u001b[0m\u001b[0;34m\u001b[0m\u001b[0;34m\u001b[0m\u001b[0m\n",
      "\u001b[0;31mFileNotFoundError\u001b[0m: [Errno 2] No such file or directory: 'state_abrev.csv'"
     ]
    }
   ],
   "source": [
    "#turn the csv into dataframes\n",
    "census_df = pd.read_csv(census_data)\n",
    "state_vacc_df = pd.read_csv(state_vacc)\n",
    "state_abrev_df = pd.read_csv(state_abrev)"
   ]
  },
  {
   "cell_type": "code",
   "execution_count": 5,
   "id": "a0f87ed2",
   "metadata": {},
   "outputs": [],
   "source": [
    "state_vacc_df = state_vacc_df.rename(columns = {'state': 'state abrev'})"
   ]
  },
  {
   "cell_type": "code",
   "execution_count": 6,
   "id": "2e5e27e4",
   "metadata": {},
   "outputs": [
    {
     "ename": "NameError",
     "evalue": "name 'state_abrev_df' is not defined",
     "output_type": "error",
     "traceback": [
      "\u001b[0;31m---------------------------------------------------------------------------\u001b[0m",
      "\u001b[0;31mNameError\u001b[0m                                 Traceback (most recent call last)",
      "\u001b[0;32m<ipython-input-6-952f476edc53>\u001b[0m in \u001b[0;36m<module>\u001b[0;34m\u001b[0m\n\u001b[0;32m----> 1\u001b[0;31m \u001b[0mstate_abrev_df\u001b[0m \u001b[0;34m=\u001b[0m \u001b[0mstate_abrev_df\u001b[0m\u001b[0;34m.\u001b[0m\u001b[0mrename\u001b[0m\u001b[0;34m(\u001b[0m\u001b[0mcolumns\u001b[0m \u001b[0;34m=\u001b[0m \u001b[0;34m{\u001b[0m\u001b[0;34m'Abrev'\u001b[0m\u001b[0;34m:\u001b[0m \u001b[0;34m'state abrev'\u001b[0m\u001b[0;34m}\u001b[0m\u001b[0;34m)\u001b[0m\u001b[0;34m\u001b[0m\u001b[0;34m\u001b[0m\u001b[0m\n\u001b[0m",
      "\u001b[0;31mNameError\u001b[0m: name 'state_abrev_df' is not defined"
     ]
    }
   ],
   "source": [
    "state_abrev_df = state_abrev_df.rename(columns = {'Abrev': 'state abrev'})"
   ]
  },
  {
   "cell_type": "code",
   "execution_count": 7,
   "id": "65bb9480",
   "metadata": {},
   "outputs": [
    {
     "ename": "NameError",
     "evalue": "name 'state_abrev_df' is not defined",
     "output_type": "error",
     "traceback": [
      "\u001b[0;31m---------------------------------------------------------------------------\u001b[0m",
      "\u001b[0;31mNameError\u001b[0m                                 Traceback (most recent call last)",
      "\u001b[0;32m<ipython-input-7-ef4cc5145a93>\u001b[0m in \u001b[0;36m<module>\u001b[0;34m\u001b[0m\n\u001b[1;32m      1\u001b[0m \u001b[0;31m#merge census withs state_abrev\u001b[0m\u001b[0;34m\u001b[0m\u001b[0;34m\u001b[0m\u001b[0;34m\u001b[0m\u001b[0m\n\u001b[0;32m----> 2\u001b[0;31m \u001b[0mcensus\u001b[0m \u001b[0;34m=\u001b[0m \u001b[0mpd\u001b[0m\u001b[0;34m.\u001b[0m\u001b[0mmerge\u001b[0m\u001b[0;34m(\u001b[0m\u001b[0mcensus_df\u001b[0m\u001b[0;34m,\u001b[0m \u001b[0mstate_abrev_df\u001b[0m\u001b[0;34m,\u001b[0m \u001b[0mon\u001b[0m \u001b[0;34m=\u001b[0m \u001b[0;34m\"State\"\u001b[0m\u001b[0;34m,\u001b[0m \u001b[0mhow\u001b[0m \u001b[0;34m=\u001b[0m\u001b[0;34m\"left\"\u001b[0m \u001b[0;34m)\u001b[0m\u001b[0;34m\u001b[0m\u001b[0;34m\u001b[0m\u001b[0m\n\u001b[0m\u001b[1;32m      3\u001b[0m \u001b[0mcensus\u001b[0m\u001b[0;34m.\u001b[0m\u001b[0mhead\u001b[0m\u001b[0;34m(\u001b[0m\u001b[0;34m)\u001b[0m\u001b[0;34m\u001b[0m\u001b[0;34m\u001b[0m\u001b[0m\n",
      "\u001b[0;31mNameError\u001b[0m: name 'state_abrev_df' is not defined"
     ]
    }
   ],
   "source": [
    "#merge census withs state_abrev\n",
    "census = pd.merge(census_df, state_abrev_df, on = \"State\", how =\"left\" )\n",
    "census.head()"
   ]
  },
  {
   "cell_type": "code",
   "execution_count": 8,
   "id": "0b368116",
   "metadata": {},
   "outputs": [
    {
     "ename": "NameError",
     "evalue": "name 'state_abrev_df' is not defined",
     "output_type": "error",
     "traceback": [
      "\u001b[0;31m---------------------------------------------------------------------------\u001b[0m",
      "\u001b[0;31mNameError\u001b[0m                                 Traceback (most recent call last)",
      "\u001b[0;32m<ipython-input-8-7b872938b2c9>\u001b[0m in \u001b[0;36m<module>\u001b[0;34m\u001b[0m\n\u001b[1;32m      1\u001b[0m \u001b[0;31m#merge state_vacc withs state_abrev\u001b[0m\u001b[0;34m\u001b[0m\u001b[0;34m\u001b[0m\u001b[0;34m\u001b[0m\u001b[0m\n\u001b[0;32m----> 2\u001b[0;31m \u001b[0mstate_vacc\u001b[0m \u001b[0;34m=\u001b[0m \u001b[0mpd\u001b[0m\u001b[0;34m.\u001b[0m\u001b[0mmerge\u001b[0m\u001b[0;34m(\u001b[0m\u001b[0mstate_vacc_df\u001b[0m\u001b[0;34m,\u001b[0m \u001b[0mstate_abrev_df\u001b[0m\u001b[0;34m,\u001b[0m \u001b[0mon\u001b[0m \u001b[0;34m=\u001b[0m \u001b[0;34m\"state abrev\"\u001b[0m\u001b[0;34m,\u001b[0m \u001b[0mhow\u001b[0m \u001b[0;34m=\u001b[0m\u001b[0;34m\"left\"\u001b[0m \u001b[0;34m)\u001b[0m\u001b[0;34m\u001b[0m\u001b[0;34m\u001b[0m\u001b[0m\n\u001b[0m\u001b[1;32m      3\u001b[0m \u001b[0mstate_vacc\u001b[0m\u001b[0;34m.\u001b[0m\u001b[0mhead\u001b[0m\u001b[0;34m(\u001b[0m\u001b[0;34m)\u001b[0m\u001b[0;34m\u001b[0m\u001b[0;34m\u001b[0m\u001b[0m\n",
      "\u001b[0;31mNameError\u001b[0m: name 'state_abrev_df' is not defined"
     ]
    }
   ],
   "source": [
    "#merge state_vacc withs state_abrev\n",
    "state_vacc = pd.merge(state_vacc_df, state_abrev_df, on = \"state abrev\", how =\"left\" )\n",
    "state_vacc.head()"
   ]
  },
  {
   "cell_type": "code",
   "execution_count": 9,
   "id": "5ec62398",
   "metadata": {},
   "outputs": [
    {
     "ename": "NameError",
     "evalue": "name 'census' is not defined",
     "output_type": "error",
     "traceback": [
      "\u001b[0;31m---------------------------------------------------------------------------\u001b[0m",
      "\u001b[0;31mNameError\u001b[0m                                 Traceback (most recent call last)",
      "\u001b[0;32m<ipython-input-9-1141dce44336>\u001b[0m in \u001b[0;36m<module>\u001b[0;34m\u001b[0m\n\u001b[1;32m      1\u001b[0m \u001b[0;31m#merge census and state df\u001b[0m\u001b[0;34m\u001b[0m\u001b[0;34m\u001b[0m\u001b[0;34m\u001b[0m\u001b[0m\n\u001b[0;32m----> 2\u001b[0;31m \u001b[0mecon_vacc\u001b[0m \u001b[0;34m=\u001b[0m \u001b[0mpd\u001b[0m\u001b[0;34m.\u001b[0m\u001b[0mmerge\u001b[0m\u001b[0;34m(\u001b[0m\u001b[0mcensus\u001b[0m\u001b[0;34m,\u001b[0m \u001b[0mstate_vacc\u001b[0m\u001b[0;34m,\u001b[0m \u001b[0mon\u001b[0m \u001b[0;34m=\u001b[0m \u001b[0;34m\"State\"\u001b[0m\u001b[0;34m,\u001b[0m \u001b[0mhow\u001b[0m \u001b[0;34m=\u001b[0m\u001b[0;34m\"inner\"\u001b[0m \u001b[0;34m)\u001b[0m\u001b[0;34m\u001b[0m\u001b[0;34m\u001b[0m\u001b[0m\n\u001b[0m\u001b[1;32m      3\u001b[0m \u001b[0mecon_vacc\u001b[0m\u001b[0;34m.\u001b[0m\u001b[0mhead\u001b[0m\u001b[0;34m(\u001b[0m\u001b[0;34m)\u001b[0m\u001b[0;34m\u001b[0m\u001b[0;34m\u001b[0m\u001b[0m\n",
      "\u001b[0;31mNameError\u001b[0m: name 'census' is not defined"
     ]
    }
   ],
   "source": [
    "#merge census and state df\n",
    "econ_vacc = pd.merge(census, state_vacc, on = \"State\", how =\"inner\" )\n",
    "econ_vacc.head()"
   ]
  },
  {
   "cell_type": "code",
   "execution_count": 10,
   "id": "24f94654",
   "metadata": {},
   "outputs": [
    {
     "ename": "NameError",
     "evalue": "name 'econ_vacc' is not defined",
     "output_type": "error",
     "traceback": [
      "\u001b[0;31m---------------------------------------------------------------------------\u001b[0m",
      "\u001b[0;31mNameError\u001b[0m                                 Traceback (most recent call last)",
      "\u001b[0;32m<ipython-input-10-e3af739518b7>\u001b[0m in \u001b[0;36m<module>\u001b[0;34m\u001b[0m\n\u001b[0;32m----> 1\u001b[0;31m \u001b[0mecon_vacc\u001b[0m \u001b[0;34m=\u001b[0m \u001b[0mecon_vacc\u001b[0m\u001b[0;34m[\u001b[0m\u001b[0;34m[\u001b[0m\u001b[0;34m'State'\u001b[0m\u001b[0;34m,\u001b[0m \u001b[0;34m'state abrev_y'\u001b[0m\u001b[0;34m,\u001b[0m \u001b[0;34m'Total Population'\u001b[0m\u001b[0;34m,\u001b[0m \u001b[0;34m'Total Labor Force'\u001b[0m\u001b[0;34m,\u001b[0m \u001b[0;34m'Total Unemployed'\u001b[0m\u001b[0;34m,\u001b[0m \u001b[0;34m'Total Poverty'\u001b[0m\u001b[0;34m,\u001b[0m \u001b[0;34m'State Number'\u001b[0m\u001b[0;34m,\u001b[0m \u001b[0;34m'Median Household Income'\u001b[0m\u001b[0;34m,\u001b[0m \u001b[0;34m'Poverty Rate'\u001b[0m\u001b[0;34m,\u001b[0m \u001b[0;34m'Unemployment Rate'\u001b[0m\u001b[0;34m,\u001b[0m \u001b[0;34m'total vaccines distributed'\u001b[0m\u001b[0;34m,\u001b[0m \u001b[0;34m'total vaccines administered'\u001b[0m\u001b[0;34m,\u001b[0m \u001b[0;34m'total vaccinated'\u001b[0m\u001b[0;34m,\u001b[0m \u001b[0;34m'pct vaccinated'\u001b[0m\u001b[0;34m,\u001b[0m \u001b[0;34m'boosters administered'\u001b[0m\u001b[0;34m,\u001b[0m \u001b[0;34m'additional_doses_vax_pct'\u001b[0m\u001b[0;34m]\u001b[0m\u001b[0;34m]\u001b[0m\u001b[0;34m\u001b[0m\u001b[0;34m\u001b[0m\u001b[0m\n\u001b[0m",
      "\u001b[0;31mNameError\u001b[0m: name 'econ_vacc' is not defined"
     ]
    }
   ],
   "source": [
    "econ_vacc = econ_vacc[['State', 'state abrev_y', 'Total Population', 'Total Labor Force', 'Total Unemployed', 'Total Poverty', 'State Number', 'Median Household Income', 'Poverty Rate', 'Unemployment Rate', 'total vaccines distributed', 'total vaccines administered', 'total vaccinated', 'pct vaccinated', 'boosters administered', 'additional_doses_vax_pct']]"
   ]
  },
  {
   "cell_type": "code",
   "execution_count": 11,
   "id": "a18fb831",
   "metadata": {},
   "outputs": [
    {
     "ename": "NameError",
     "evalue": "name 'econ_vacc' is not defined",
     "output_type": "error",
     "traceback": [
      "\u001b[0;31m---------------------------------------------------------------------------\u001b[0m",
      "\u001b[0;31mNameError\u001b[0m                                 Traceback (most recent call last)",
      "\u001b[0;32m<ipython-input-11-c8c7974c5b98>\u001b[0m in \u001b[0;36m<module>\u001b[0;34m\u001b[0m\n\u001b[0;32m----> 1\u001b[0;31m econ_vacc = econ_vacc.rename(columns = {'State':'state',\n\u001b[0m\u001b[1;32m      2\u001b[0m                                         \u001b[0;34m'State Abrev'\u001b[0m\u001b[0;34m:\u001b[0m \u001b[0;34m'state_abrev'\u001b[0m\u001b[0;34m,\u001b[0m\u001b[0;34m\u001b[0m\u001b[0;34m\u001b[0m\u001b[0m\n\u001b[1;32m      3\u001b[0m                                         \u001b[0;34m'Total Population'\u001b[0m\u001b[0;34m:\u001b[0m \u001b[0;34m'total_population'\u001b[0m\u001b[0;34m,\u001b[0m\u001b[0;34m\u001b[0m\u001b[0;34m\u001b[0m\u001b[0m\n\u001b[1;32m      4\u001b[0m                                         \u001b[0;34m'Total Labor Force'\u001b[0m\u001b[0;34m:\u001b[0m \u001b[0;34m'total_labor_force'\u001b[0m\u001b[0;34m,\u001b[0m\u001b[0;34m\u001b[0m\u001b[0;34m\u001b[0m\u001b[0m\n\u001b[1;32m      5\u001b[0m                                         \u001b[0;34m'Total Unemployed'\u001b[0m\u001b[0;34m:\u001b[0m \u001b[0;34m'total_unemployed'\u001b[0m\u001b[0;34m,\u001b[0m\u001b[0;34m\u001b[0m\u001b[0;34m\u001b[0m\u001b[0m\n",
      "\u001b[0;31mNameError\u001b[0m: name 'econ_vacc' is not defined"
     ]
    }
   ],
   "source": [
    "econ_vacc = econ_vacc.rename(columns = {'State':'state',\n",
    "                                        'State Abrev': 'state_abrev',\n",
    "                                        'Total Population': 'total_population',\n",
    "                                        'Total Labor Force': 'total_labor_force',\n",
    "                                        'Total Unemployed': 'total_unemployed',\n",
    "                                        'Total Poverty': 'total_poverty',\n",
    "                                        'State Number': 'state_number',\n",
    "                                        'Median Household Income': 'median_household_income',\n",
    "                                        'Poverty Rate': 'poverty_rate',\n",
    "                                        'Unemployment Rate': 'unemployment_rate',\n",
    "                                        'Total Vaccines Distributed': 'total_distributed', \n",
    "                                        'Total Vaccines Administered': 'total_administered',\n",
    "                                        'Total Vaccinated': 'total_vaccinated', \n",
    "                                        'Percent Vaccinated': 'percent_vaccinated', \n",
    "                                        'Boosters Administered': 'boosters_administered', \n",
    "                                        'Additional Doses Pct': 'pct_additional_doses'})"
   ]
  },
  {
   "cell_type": "code",
   "execution_count": 12,
   "id": "c0c246ff",
   "metadata": {},
   "outputs": [
    {
     "ename": "NameError",
     "evalue": "name 'econ_vacc' is not defined",
     "output_type": "error",
     "traceback": [
      "\u001b[0;31m---------------------------------------------------------------------------\u001b[0m",
      "\u001b[0;31mNameError\u001b[0m                                 Traceback (most recent call last)",
      "\u001b[0;32m<ipython-input-12-8d5a2b7bd95e>\u001b[0m in \u001b[0;36m<module>\u001b[0;34m\u001b[0m\n\u001b[0;32m----> 1\u001b[0;31m \u001b[0mecon_vacc\u001b[0m\u001b[0;34m.\u001b[0m\u001b[0mhead\u001b[0m\u001b[0;34m(\u001b[0m\u001b[0;34m)\u001b[0m\u001b[0;34m\u001b[0m\u001b[0;34m\u001b[0m\u001b[0m\n\u001b[0m",
      "\u001b[0;31mNameError\u001b[0m: name 'econ_vacc' is not defined"
     ]
    }
   ],
   "source": [
    "econ_vacc.head()"
   ]
  },
  {
   "cell_type": "code",
   "execution_count": 13,
   "id": "fc4c9480",
   "metadata": {},
   "outputs": [],
   "source": [
    "conn = 'mongodb://127.0.0.1:27017'"
   ]
  },
  {
   "cell_type": "code",
   "execution_count": 14,
   "id": "cd65235f",
   "metadata": {},
   "outputs": [],
   "source": [
    "client = pymongo.MongoClient(conn)"
   ]
  },
  {
   "cell_type": "code",
   "execution_count": 15,
   "id": "4311e356",
   "metadata": {},
   "outputs": [],
   "source": [
    "db = client.vaccinationDB"
   ]
  },
  {
   "cell_type": "code",
   "execution_count": 16,
   "id": "9eac6db8",
   "metadata": {},
   "outputs": [],
   "source": [
    "statevacc = db.statevacc"
   ]
  },
  {
   "cell_type": "code",
   "execution_count": 17,
   "id": "172acaaa",
   "metadata": {},
   "outputs": [
    {
     "ename": "NameError",
     "evalue": "name 'econ_vacc' is not defined",
     "output_type": "error",
     "traceback": [
      "\u001b[0;31m---------------------------------------------------------------------------\u001b[0m",
      "\u001b[0;31mNameError\u001b[0m                                 Traceback (most recent call last)",
      "\u001b[0;32m<ipython-input-17-e78a0578f469>\u001b[0m in \u001b[0;36m<module>\u001b[0;34m\u001b[0m\n\u001b[0;32m----> 1\u001b[0;31m \u001b[0mecon_vacc_dict\u001b[0m \u001b[0;34m=\u001b[0m \u001b[0mecon_vacc\u001b[0m\u001b[0;34m.\u001b[0m\u001b[0mto_dict\u001b[0m\u001b[0;34m(\u001b[0m\u001b[0;34m\"records\"\u001b[0m\u001b[0;34m)\u001b[0m\u001b[0;34m\u001b[0m\u001b[0;34m\u001b[0m\u001b[0m\n\u001b[0m",
      "\u001b[0;31mNameError\u001b[0m: name 'econ_vacc' is not defined"
     ]
    }
   ],
   "source": [
    "econ_vacc_dict = econ_vacc.to_dict(\"records\")"
   ]
  },
  {
   "cell_type": "code",
   "execution_count": 18,
   "id": "df422096",
   "metadata": {},
   "outputs": [
    {
     "ename": "NameError",
     "evalue": "name 'econ_vacc_dict' is not defined",
     "output_type": "error",
     "traceback": [
      "\u001b[0;31m---------------------------------------------------------------------------\u001b[0m",
      "\u001b[0;31mNameError\u001b[0m                                 Traceback (most recent call last)",
      "\u001b[0;32m<ipython-input-18-e21f95b51d49>\u001b[0m in \u001b[0;36m<module>\u001b[0;34m\u001b[0m\n\u001b[0;32m----> 1\u001b[0;31m \u001b[0mstatevacc\u001b[0m\u001b[0;34m.\u001b[0m\u001b[0minsert_many\u001b[0m\u001b[0;34m(\u001b[0m\u001b[0mecon_vacc_dict\u001b[0m\u001b[0;34m)\u001b[0m\u001b[0;34m\u001b[0m\u001b[0;34m\u001b[0m\u001b[0m\n\u001b[0m",
      "\u001b[0;31mNameError\u001b[0m: name 'econ_vacc_dict' is not defined"
     ]
    }
   ],
   "source": [
    "statevacc.insert_many(econ_vacc_dict)"
   ]
  },
  {
   "cell_type": "code",
   "execution_count": 19,
   "id": "66eddf7d",
   "metadata": {},
   "outputs": [
    {
     "name": "stdout",
     "output_type": "stream",
     "text": [
      "{'_id': ObjectId('617da25cf6a68099861610c5'), 'State': 'Alabama', 'State Abrev': 'AL', 'Total Population': 4876250.0, 'Total Labor Force': 2242785.0, 'Total Unemployed': 132095.0, 'Total Poverty': 795989.0, 'State Number': 1, 'Poverty Rate': 16.323793899000258, 'Unemployment Rate': 5.889775435451905, 'Total Vaccines Distributed': 7058840, 'Total Vaccines Administered': 4773728, 'Total Vaccinated': 2177980, 'Percent Vaccinated': 44.4, 'Boosters Administered': 154781, 'Additional Doses Pct': 7.1}\n",
      "{'_id': ObjectId('617da25cf6a68099861610c6'), 'State': 'Alaska', 'State Abrev': 'AK', 'Total Population': 737068.0, 'Total Labor Force': 392338.0, 'Total Unemployed': 26808.0, 'Total Poverty': 76933.0, 'State Number': 2, 'Poverty Rate': 10.437707240037554, 'Unemployment Rate': 6.832883890930779, 'Total Vaccines Distributed': 1130765, 'Total Vaccines Administered': 856505, 'Total Vaccinated': 383032, 'Percent Vaccinated': 52.4, 'Boosters Administered': 42857, 'Additional Doses Pct': 11.2}\n",
      "{'_id': ObjectId('617da25cf6a68099861610c7'), 'State': 'Arizona', 'State Abrev': 'AZ', 'Total Population': 7050299.0, 'Total Labor Force': 3346155.0, 'Total Unemployed': 195905.0, 'Total Poverty': 1043764.0, 'State Number': 4, 'Poverty Rate': 14.804535240278462, 'Unemployment Rate': 5.854630165070058, 'Total Vaccines Distributed': 10500600, 'Total Vaccines Administered': 8656911, 'Total Vaccinated': 3842005, 'Percent Vaccinated': 52.8, 'Boosters Administered': 274394, 'Additional Doses Pct': 7.1}\n",
      "{'_id': ObjectId('617da25cf6a68099861610c8'), 'State': 'Arkansas', 'State Abrev': 'AR', 'Total Population': 2999370.0, 'Total Labor Force': 1378722.0, 'Total Unemployed': 70481.0, 'Total Poverty': 496260.0, 'State Number': 5, 'Poverty Rate': 16.545474549655427, 'Unemployment Rate': 5.112053046226868, 'Total Vaccines Distributed': 4323790, 'Total Vaccines Administered': 3189087, 'Total Vaccinated': 1438561, 'Percent Vaccinated': 47.7, 'Boosters Administered': 111131, 'Additional Doses Pct': 7.7}\n",
      "{'_id': ObjectId('617da25cf6a68099861610c9'), 'State': 'California', 'State Abrev': 'CA', 'Total Population': 39283497.0, 'Total Labor Force': 19921547.0, 'Total Unemployed': 1199233.0, 'Total Poverty': 5149742.0, 'State Number': 6, 'Poverty Rate': 13.109174063602332, 'Unemployment Rate': 6.01977848407054, 'Total Vaccines Distributed': 61486935, 'Total Vaccines Administered': 53283990, 'Total Vaccinated': 24045250, 'Percent Vaccinated': 60.9, 'Boosters Administered': 1581280, 'Additional Doses Pct': 6.6}\n",
      "{'_id': ObjectId('617da25cf6a68099861610ca'), 'State': 'Colorado', 'State Abrev': 'CO', 'Total Population': 5610349.0, 'Total Labor Force': 3069631.0, 'Total Unemployed': 131371.0, 'Total Poverty': 565873.0, 'State Number': 8, 'Poverty Rate': 10.086235276985445, 'Unemployment Rate': 4.279700068184091, 'Total Vaccines Distributed': 8761605, 'Total Vaccines Administered': 7579455, 'Total Vaccinated': 3526977, 'Percent Vaccinated': 61.2, 'Boosters Administered': 329120, 'Additional Doses Pct': 9.3}\n",
      "{'_id': ObjectId('617da25cf6a68099861610cb'), 'State': 'Delaware', 'State Abrev': 'DE', 'Total Population': 957248.0, 'Total Labor Force': 485533.0, 'Total Unemployed': 26481.0, 'Total Poverty': 109400.0, 'State Number': 10, 'Poverty Rate': 11.42859530654543, 'Unemployment Rate': 5.454006215849386, 'Total Vaccines Distributed': 1632535, 'Total Vaccines Administered': 1283811, 'Total Vaccinated': 580366, 'Percent Vaccinated': 59.6, 'Boosters Administered': 46267, 'Additional Doses Pct': 8.0}\n",
      "{'_id': ObjectId('617da25cf6a68099861610cc'), 'State': 'District of Columbia', 'State Abrev': 'DC', 'Total Population': 692683.0, 'Total Labor Force': 407904.0, 'Total Unemployed': 27967.0, 'Total Poverty': 107140.0, 'State Number': 11, 'Poverty Rate': 15.46739273231767, 'Unemployment Rate': 6.856270102769279, 'Total Vaccines Distributed': 1289905, 'Total Vaccines Administered': 1051871, 'Total Vaccinated': 438005, 'Percent Vaccinated': 62.1, 'Boosters Administered': 23667, 'Additional Doses Pct': 5.4}\n",
      "{'_id': ObjectId('617da25cf6a68099861610cd'), 'State': 'Connecticut', 'State Abrev': 'CT', 'Total Population': 3575074.0, 'Total Labor Force': 1940825.0, 'Total Unemployed': 116456.0, 'Total Poverty': 344146.0, 'State Number': 9, 'Poverty Rate': 9.626262281563962, 'Unemployment Rate': 6.000334909123698, 'Total Vaccines Distributed': 5979585, 'Total Vaccines Administered': 5310937, 'Total Vaccinated': 2510279, 'Percent Vaccinated': 70.4, 'Boosters Administered': 186046, 'Additional Doses Pct': 7.4}\n",
      "{'_id': ObjectId('617da25cf6a68099861610ce'), 'State': 'Florida', 'State Abrev': 'FL', 'Total Population': 20901636.0, 'Total Labor Force': 10116026.0, 'Total Unemployed': 561448.0, 'Total Poverty': 2870487.0, 'State Number': 12, 'Poverty Rate': 13.733312550271185, 'Unemployment Rate': 5.550084588552856, 'Total Vaccines Distributed': 34664565, 'Total Vaccines Administered': 28141859, 'Total Vaccinated': 12756457, 'Percent Vaccinated': 59.4, 'Boosters Administered': 1010007, 'Additional Doses Pct': 7.9}\n",
      "{'_id': ObjectId('617da25cf6a68099861610cf'), 'State': 'Georgia', 'State Abrev': 'GA', 'Total Population': 10403847.0, 'Total Labor Force': 5174538.0, 'Total Unemployed': 290560.0, 'Total Poverty': 1528558.0, 'State Number': 13, 'Poverty Rate': 14.69223836144457, 'Unemployment Rate': 5.615187288217808, 'Total Vaccines Distributed': 15353515, 'Total Vaccines Administered': 11223622, 'Total Vaccinated': 5051789, 'Percent Vaccinated': 47.6, 'Boosters Administered': 285731, 'Additional Doses Pct': 5.7}\n",
      "{'_id': ObjectId('617da25cf6a68099861610d0'), 'State': 'Idaho', 'State Abrev': 'ID', 'Total Population': 1717750.0, 'Total Labor Force': 832286.0, 'Total Unemployed': 35879.0, 'Total Poverty': 221256.0, 'State Number': 16, 'Poverty Rate': 12.880570513753456, 'Unemployment Rate': 4.310897936526627, 'Total Vaccines Distributed': 2383680, 'Total Vaccines Administered': 1681655, 'Total Vaccinated': 777294, 'Percent Vaccinated': 43.5, 'Boosters Administered': 77695, 'Additional Doses Pct': 10.0}\n",
      "{'_id': ObjectId('617da25cf6a68099861610d1'), 'State': 'Hawaii', 'State Abrev': 'HI', 'Total Population': 1422094.0, 'Total Labor Force': 752064.0, 'Total Unemployed': 30269.0, 'Total Poverty': 130649.0, 'State Number': 15, 'Poverty Rate': 9.187086085729916, 'Unemployment Rate': 4.024790443366522, 'Total Vaccines Distributed': 2490360, 'Total Vaccines Administered': 1958424, 'Total Vaccinated': 842744, 'Percent Vaccinated': 59.5, 'Boosters Administered': 60768, 'Additional Doses Pct': 7.2}\n",
      "{'_id': ObjectId('617da25cf6a68099861610d2'), 'State': 'Illinois', 'State Abrev': 'IL', 'Total Population': 12770631.0, 'Total Labor Force': 6663517.0, 'Total Unemployed': 394981.0, 'Total Poverty': 1557873.0, 'State Number': 17, 'Poverty Rate': 12.198872553752434, 'Unemployment Rate': 5.927515454676562, 'Total Vaccines Distributed': 18958985, 'Total Vaccines Administered': 15703827, 'Total Vaccinated': 6897684, 'Percent Vaccinated': 54.4, 'Boosters Administered': 269323, 'Additional Doses Pct': 3.9}\n",
      "{'_id': ObjectId('617da25cf6a68099861610d3'), 'State': 'Indiana', 'State Abrev': 'IN', 'Total Population': 6665703.0, 'Total Labor Force': 3367521.0, 'Total Unemployed': 161351.0, 'Total Poverty': 867996.0, 'State Number': 18, 'Poverty Rate': 13.021822304414105, 'Unemployment Rate': 4.791388086369766, 'Total Vaccines Distributed': 8881960, 'Total Vaccines Administered': 7100607, 'Total Vaccinated': 3340289, 'Percent Vaccinated': 49.6, 'Boosters Administered': 268318, 'Additional Doses Pct': 8.0}\n",
      "{'_id': ObjectId('617da25cf6a68099861610d4'), 'State': 'Iowa', 'State Abrev': 'IA', 'Total Population': 3139508.0, 'Total Labor Force': 1678141.0, 'Total Unemployed': 62573.0, 'Total Poverty': 348122.0, 'State Number': 19, 'Poverty Rate': 11.088425320145705, 'Unemployment Rate': 3.728709327762089, 'Total Vaccines Distributed': 4521285, 'Total Vaccines Administered': 3630676, 'Total Vaccinated': 1741944, 'Percent Vaccinated': 55.2, 'Boosters Administered': 140910, 'Additional Doses Pct': 8.1}\n",
      "{'_id': ObjectId('617da25cf6a68099861610d5'), 'State': 'Kansas', 'State Abrev': 'KS', 'Total Population': 2910652.0, 'Total Labor Force': 1519790.0, 'Total Unemployed': 61002.0, 'Total Poverty': 337739.0, 'State Number': 20, 'Poverty Rate': 11.603551369246478, 'Unemployment Rate': 4.013844017923529, 'Total Vaccines Distributed': 4148765, 'Total Vaccines Administered': 3277118, 'Total Vaccinated': 1540988, 'Percent Vaccinated': 52.9, 'Boosters Administered': 111914, 'Additional Doses Pct': 7.3}\n",
      "{'_id': ObjectId('617da25cf6a68099861610d6'), 'State': 'Kentucky', 'State Abrev': 'KY', 'Total Population': 4449052.0, 'Total Labor Force': 2109169.0, 'Total Unemployed': 116945.0, 'Total Poverty': 747010.0, 'State Number': 21, 'Poverty Rate': 16.790318476835065, 'Unemployment Rate': 5.5446007408605, 'Total Vaccines Distributed': 6185465, 'Total Vaccines Administered': 5241800, 'Total Vaccinated': 2435390, 'Percent Vaccinated': 54.5, 'Boosters Administered': 198997, 'Additional Doses Pct': 8.2}\n",
      "{'_id': ObjectId('617da25cf6a68099861610d7'), 'State': 'Louisiana', 'State Abrev': 'LA', 'Total Population': 4664362.0, 'Total Labor Force': 2191990.0, 'Total Unemployed': 141020.0, 'Total Poverty': 871467.0, 'State Number': 22, 'Poverty Rate': 18.683519846872947, 'Unemployment Rate': 6.433423510143751, 'Total Vaccines Distributed': 6065500, 'Total Vaccines Administered': 4797565, 'Total Vaccinated': 2202106, 'Percent Vaccinated': 47.4, 'Boosters Administered': 186048, 'Additional Doses Pct': 8.4}\n",
      "{'_id': ObjectId('617da25cf6a68099861610d8'), 'State': 'Maine', 'State Abrev': 'ME', 'Total Population': 1335492.0, 'Total Labor Force': 701270.0, 'Total Unemployed': 28922.0, 'Total Poverty': 153131.0, 'State Number': 23, 'Poverty Rate': 11.466261123241472, 'Unemployment Rate': 4.124231750966104, 'Total Vaccines Distributed': 2302770, 'Total Vaccines Administered': 1919012, 'Total Vaccinated': 942546, 'Percent Vaccinated': 70.1, 'Boosters Administered': 68073, 'Additional Doses Pct': 7.2}\n",
      "{'_id': ObjectId('617da25cf6a68099861610d9'), 'State': 'Maryland', 'State Abrev': 'MD', 'Total Population': 6018848.0, 'Total Labor Force': 3269234.0, 'Total Unemployed': 164396.0, 'Total Poverty': 539991.0, 'State Number': 24, 'Poverty Rate': 8.971667003386695, 'Unemployment Rate': 5.028578559992953, 'Total Vaccines Distributed': 10598410, 'Total Vaccines Administered': 8391832, 'Total Vaccinated': 3980189, 'Percent Vaccinated': 65.8, 'Boosters Administered': 293609, 'Additional Doses Pct': 7.4}\n",
      "{'_id': ObjectId('617da25cf6a68099861610da'), 'State': 'Massachusetts', 'State Abrev': 'MA', 'Total Population': 6850553.0, 'Total Labor Force': 3800931.0, 'Total Unemployed': 183355.0, 'Total Poverty': 680962.0, 'State Number': 25, 'Poverty Rate': 9.940248619345036, 'Unemployment Rate': 4.823949711268107, 'Total Vaccines Distributed': 11646150, 'Total Vaccines Administered': 10260823, 'Total Vaccinated': 4780386, 'Percent Vaccinated': 69.4, 'Boosters Administered': 320061, 'Additional Doses Pct': 6.7}\n",
      "{'_id': ObjectId('617da25cf6a68099861610db'), 'State': 'Michigan', 'State Abrev': 'MI', 'Total Population': 9965265.0, 'Total Labor Force': 4953003.0, 'Total Unemployed': 293894.0, 'Total Poverty': 1398527.0, 'State Number': 26, 'Poverty Rate': 14.0340171586004, 'Unemployment Rate': 5.933652775901812, 'Total Vaccines Distributed': 14303410, 'Total Vaccines Administered': 11268319, 'Total Vaccinated': 5322469, 'Percent Vaccinated': 53.3, 'Boosters Administered': 499316, 'Additional Doses Pct': 9.4}\n",
      "{'_id': ObjectId('617da25cf6a68099861610dc'), 'State': 'Minnesota', 'State Abrev': 'MN', 'Total Population': 5563378.0, 'Total Labor Force': 3072244.0, 'Total Unemployed': 111115.0, 'Total Poverty': 526065.0, 'State Number': 27, 'Poverty Rate': 9.455855776831989, 'Unemployment Rate': 3.616737472674696, 'Total Vaccines Distributed': 8428160, 'Total Vaccines Administered': 7070207, 'Total Vaccinated': 3359267, 'Percent Vaccinated': 59.6, 'Boosters Administered': 337444, 'Additional Doses Pct': 10.0}\n",
      "{'_id': ObjectId('617da25cf6a68099861610dd'), 'State': 'Mississippi', 'State Abrev': 'MS', 'Total Population': 2984418.0, 'Total Labor Force': 1346678.0, 'Total Unemployed': 99733.0, 'Total Poverty': 585786.0, 'State Number': 28, 'Poverty Rate': 19.628148603848388, 'Unemployment Rate': 7.40585351509418, 'Total Vaccines Distributed': 4009685, 'Total Vaccines Administered': 2930327, 'Total Vaccinated': 1348772, 'Percent Vaccinated': 45.3, 'Boosters Administered': 94057, 'Additional Doses Pct': 7.0}\n",
      "{'_id': ObjectId('617da25cf6a68099861610de'), 'State': 'Missouri', 'State Abrev': 'MO', 'Total Population': 6104910.0, 'Total Labor Force': 3074639.0, 'Total Unemployed': 139789.0, 'Total Poverty': 810045.0, 'State Number': 29, 'Poverty Rate': 13.268745976599163, 'Unemployment Rate': 4.546517493598436, 'Total Vaccines Distributed': 8275355, 'Total Vaccines Administered': 6672934, 'Total Vaccinated': 3035940, 'Percent Vaccinated': 49.5, 'Boosters Administered': 250840, 'Additional Doses Pct': 8.3}\n",
      "{'_id': ObjectId('617da25cf6a68099861610df'), 'State': 'Montana', 'State Abrev': 'MT', 'Total Population': 1050649.0, 'Total Labor Force': 536872.0, 'Total Unemployed': 21513.0, 'Total Poverty': 134605.0, 'State Number': 30, 'Poverty Rate': 12.811605017470152, 'Unemployment Rate': 4.007100388919519, 'Total Vaccines Distributed': 1435885, 'Total Vaccines Administered': 1158737, 'Total Vaccinated': 534432, 'Percent Vaccinated': 50.0, 'Boosters Administered': 52038, 'Additional Doses Pct': 9.7}\n",
      "{'_id': ObjectId('617da25cf6a68099861610e0'), 'State': 'Nebraska', 'State Abrev': 'NE', 'Total Population': 1914571.0, 'Total Labor Force': 1039498.0, 'Total Unemployed': 34535.0, 'Total Poverty': 206579.0, 'State Number': 31, 'Poverty Rate': 10.789832291411496, 'Unemployment Rate': 3.3222767143371126, 'Total Vaccines Distributed': 2740510, 'Total Vaccines Administered': 2288596, 'Total Vaccinated': 1082273, 'Percent Vaccinated': 55.9, 'Boosters Administered': 88670, 'Additional Doses Pct': 8.2}\n",
      "{'_id': ObjectId('617da25cf6a68099861610e1'), 'State': 'Nevada', 'State Abrev': 'NV', 'Total Population': 2972382.0, 'Total Labor Force': 1507387.0, 'Total Unemployed': 92426.0, 'Total Poverty': 384690.0, 'State Number': 32, 'Poverty Rate': 12.942145390464615, 'Unemployment Rate': 6.131537554722178, 'Total Vaccines Distributed': 4254060, 'Total Vaccines Administered': 3580718, 'Total Vaccinated': 1618862, 'Percent Vaccinated': 52.6, 'Boosters Administered': 100396, 'Additional Doses Pct': 6.2}\n",
      "{'_id': ObjectId('617da25cf6a68099861610e2'), 'State': 'New Hampshire', 'State Abrev': 'NH', 'Total Population': 1348124.0, 'Total Labor Force': 759081.0, 'Total Unemployed': 27430.0, 'Total Poverty': 98682.0, 'State Number': 33, 'Poverty Rate': 7.319949796902955, 'Unemployment Rate': 3.6135801054169447, 'Total Vaccines Distributed': 2265530, 'Total Vaccines Administered': 1884965, 'Total Vaccinated': 852140, 'Percent Vaccinated': 62.7, 'Boosters Administered': 11969, 'Additional Doses Pct': 1.4}\n",
      "{'_id': ObjectId('617da25cf6a68099861610e3'), 'State': 'New Jersey', 'State Abrev': 'NJ', 'Total Population': 8878503.0, 'Total Labor Force': 4689849.0, 'Total Unemployed': 258093.0, 'Total Poverty': 869081.0, 'State Number': 34, 'Poverty Rate': 9.788598370693798, 'Unemployment Rate': 5.503226223274992, 'Total Vaccines Distributed': 14739795, 'Total Vaccines Administered': 12103219, 'Total Vaccinated': 5865208, 'Percent Vaccinated': 66.0, 'Boosters Administered': 398362, 'Additional Doses Pct': 6.8}\n",
      "{'_id': ObjectId('617da25cf6a68099861610e4'), 'State': 'New Mexico', 'State Abrev': 'NM', 'Total Population': 2092454.0, 'Total Labor Force': 961999.0, 'Total Unemployed': 63458.0, 'Total Poverty': 392065.0, 'State Number': 35, 'Poverty Rate': 18.737090516685196, 'Unemployment Rate': 6.596472553505773, 'Total Vaccines Distributed': 3142365, 'Total Vaccines Administered': 2957067, 'Total Vaccinated': 1376884, 'Percent Vaccinated': 65.7, 'Boosters Administered': 135036, 'Additional Doses Pct': 9.8}\n",
      "{'_id': ObjectId('617da25cf6a68099861610e5'), 'State': 'New York', 'State Abrev': 'NY', 'Total Population': 19572319.0, 'Total Labor Force': 10069219.0, 'Total Unemployed': 547509.0, 'Total Poverty': 2681277.0, 'State Number': 36, 'Poverty Rate': 13.699332204834798, 'Unemployment Rate': 5.437452497557159, 'Total Vaccines Distributed': 31361205, 'Total Vaccines Administered': 27199492, 'Total Vaccinated': 12876661, 'Percent Vaccinated': 66.2, 'Boosters Administered': 554373, 'Additional Doses Pct': 4.3}\n",
      "{'_id': ObjectId('617da25cf6a68099861610e6'), 'State': 'North Carolina', 'State Abrev': 'NC', 'Total Population': 10264876.0, 'Total Labor Force': 5139789.0, 'Total Unemployed': 281344.0, 'Total Poverty': 1467591.0, 'State Number': 37, 'Poverty Rate': 14.29721118891256, 'Unemployment Rate': 5.473843381508463, 'Total Vaccines Distributed': 15385870, 'Total Vaccines Administered': 12122081, 'Total Vaccinated': 5486743, 'Percent Vaccinated': 52.3, 'Boosters Administered': 276639, 'Additional Doses Pct': 5.0}\n",
      "{'_id': ObjectId('617da25cf6a68099861610e7'), 'State': 'North Dakota', 'State Abrev': 'ND', 'Total Population': 756717.0, 'Total Labor Force': 420291.0, 'Total Unemployed': 11406.0, 'Total Poverty': 78198.0, 'State Number': 38, 'Poverty Rate': 10.333850039050263, 'Unemployment Rate': 2.713833986452244, 'Total Vaccines Distributed': 997460, 'Total Vaccines Administered': 799769, 'Total Vaccinated': 349427, 'Percent Vaccinated': 45.9, 'Boosters Administered': 33814, 'Additional Doses Pct': 9.7}\n",
      "{'_id': ObjectId('617da25cf6a68099861610e8'), 'State': 'Ohio', 'State Abrev': 'OH', 'Total Population': 11655397.0, 'Total Labor Force': 5918471.0, 'Total Unemployed': 314483.0, 'Total Poverty': 1588343.0, 'State Number': 39, 'Poverty Rate': 13.627532378347988, 'Unemployment Rate': 5.3135852148299785, 'Total Vaccines Distributed': 15993115, 'Total Vaccines Administered': 12757608, 'Total Vaccinated': 6033375, 'Percent Vaccinated': 51.6, 'Boosters Administered': 472788, 'Additional Doses Pct': 7.8}\n",
      "{'_id': ObjectId('617da25cf6a68099861610e9'), 'State': 'Oklahoma', 'State Abrev': 'OK', 'Total Population': 3932870.0, 'Total Labor Force': 1885928.0, 'Total Unemployed': 94834.0, 'Total Poverty': 598373.0, 'State Number': 40, 'Poverty Rate': 15.214665117331618, 'Unemployment Rate': 5.0285058602449295, 'Total Vaccines Distributed': 5266460, 'Total Vaccines Administered': 4405452, 'Total Vaccinated': 1965685, 'Percent Vaccinated': 49.7, 'Boosters Administered': 163597, 'Additional Doses Pct': 8.3}\n",
      "{'_id': ObjectId('617da25cf6a68099861610ea'), 'State': 'Oregon', 'State Abrev': 'OR', 'Total Population': 4129803.0, 'Total Labor Force': 2096692.0, 'Total Unemployed': 114559.0, 'Total Poverty': 533527.0, 'State Number': 41, 'Poverty Rate': 12.918945528394454, 'Unemployment Rate': 5.463797257775582, 'Total Vaccines Distributed': 7108555, 'Total Vaccines Administered': 5534888, 'Total Vaccinated': 2638467, 'Percent Vaccinated': 62.6, 'Boosters Administered': 218866, 'Additional Doses Pct': 8.3}\n",
      "{'_id': ObjectId('617da25cf6a68099861610eb'), 'State': 'Pennsylvania', 'State Abrev': 'PA', 'Total Population': 12791530.0, 'Total Labor Force': 6553389.0, 'Total Unemployed': 347378.0, 'Total Poverty': 1539183.0, 'State Number': 42, 'Poverty Rate': 12.032829536419802, 'Unemployment Rate': 5.300738289761221, 'Total Vaccines Distributed': 20443185, 'Total Vaccines Administered': 17265727, 'Total Vaccinated': 7697728, 'Percent Vaccinated': 60.1, 'Boosters Administered': 350773, 'Additional Doses Pct': 4.6}\n",
      "{'_id': ObjectId('617da25cf6a68099861610ec'), 'State': 'Rhode Island', 'State Abrev': 'RI', 'Total Population': 1057231.0, 'Total Labor Force': 567926.0, 'Total Unemployed': 30455.0, 'Total Poverty': 125826.0, 'State Number': 44, 'Poverty Rate': 11.901467134429469, 'Unemployment Rate': 5.362494409482926, 'Total Vaccines Distributed': 1794565, 'Total Vaccines Administered': 1536391, 'Total Vaccinated': 746384, 'Percent Vaccinated': 70.5, 'Boosters Administered': 54771, 'Additional Doses Pct': 7.3}\n",
      "{'_id': ObjectId('617da25cf6a68099861610ed'), 'State': 'South Carolina', 'State Abrev': 'SC', 'Total Population': 5020806.0, 'Total Labor Force': 2447854.0, 'Total Unemployed': 139526.0, 'Total Poverty': 741650.0, 'State Number': 45, 'Poverty Rate': 14.771532698136514, 'Unemployment Rate': 5.699931450160018, 'Total Vaccines Distributed': 7398485, 'Total Vaccines Administered': 5614897, 'Total Vaccinated': 2553535, 'Percent Vaccinated': 49.6, 'Boosters Administered': 234471, 'Additional Doses Pct': 9.2}\n",
      "{'_id': ObjectId('617da25cf6a68099861610ee'), 'State': 'South Dakota', 'State Abrev': 'SD', 'Total Population': 870638.0, 'Total Labor Force': 462290.0, 'Total Unemployed': 15736.0, 'Total Poverty': 110553.0, 'State Number': 46, 'Poverty Rate': 12.697929564296528, 'Unemployment Rate': 3.403923943844773, 'Total Vaccines Distributed': 1290315, 'Total Vaccines Administered': 1003680, 'Total Vaccinated': 462096, 'Percent Vaccinated': 52.2, 'Boosters Administered': 36818, 'Additional Doses Pct': 8.0}\n",
      "{'_id': ObjectId('617da25cf6a68099861610ef'), 'State': 'Tennessee', 'State Abrev': 'TN', 'Total Population': 6709356.0, 'Total Labor Force': 3301501.0, 'Total Unemployed': 172799.0, 'Total Poverty': 996930.0, 'State Number': 47, 'Poverty Rate': 14.858803139973494, 'Unemployment Rate': 5.233952677888027, 'Total Vaccines Distributed': 9149530, 'Total Vaccines Administered': 7292825, 'Total Vaccinated': 3229283, 'Percent Vaccinated': 47.3, 'Boosters Administered': 293079, 'Additional Doses Pct': 9.1}\n",
      "{'_id': ObjectId('617da25cf6a68099861610f0'), 'State': 'Texas', 'State Abrev': 'TX', 'Total Population': 28260856.0, 'Total Labor Force': 14055852.0, 'Total Unemployed': 708827.0, 'Total Poverty': 4072194.0, 'State Number': 48, 'Poverty Rate': 14.409308762622052, 'Unemployment Rate': 5.042931584652428, 'Total Vaccines Distributed': 43802845, 'Total Vaccines Administered': 33951683, 'Total Vaccinated': 15368246, 'Percent Vaccinated': 53.0, 'Boosters Administered': 1125846, 'Additional Doses Pct': 7.3}\n",
      "{'_id': ObjectId('617da25cf6a68099861610f1'), 'State': 'Vermont', 'State Abrev': 'VT', 'Total Population': 624313.0, 'Total Labor Force': 341932.0, 'Total Unemployed': 12323.0, 'Total Poverty': 65652.0, 'State Number': 50, 'Poverty Rate': 10.51587905425644, 'Unemployment Rate': 3.6039329457319, 'Total Vaccines Distributed': 1128950, 'Total Vaccines Administered': 956952, 'Total Vaccinated': 442528, 'Percent Vaccinated': 70.9, 'Boosters Administered': 46323, 'Additional Doses Pct': 10.5}\n",
      "{'_id': ObjectId('617da25cf6a68099861610f2'), 'State': 'Utah', 'State Abrev': 'UT', 'Total Population': 3096848.0, 'Total Labor Force': 1557215.0, 'Total Unemployed': 55539.0, 'Total Poverty': 298537.0, 'State Number': 49, 'Poverty Rate': 9.64002753767702, 'Unemployment Rate': 3.5665595309575107, 'Total Vaccines Distributed': 4278230, 'Total Vaccines Administered': 3641273, 'Total Vaccinated': 1700674, 'Percent Vaccinated': 53.0, 'Boosters Administered': 95849, 'Additional Doses Pct': 5.6}\n",
      "{'_id': ObjectId('617da25cf6a68099861610f3'), 'State': 'Virginia', 'State Abrev': 'VA', 'Total Population': 8454463.0, 'Total Labor Force': 4477253.0, 'Total Unemployed': 200850.0, 'Total Poverty': 865691.0, 'State Number': 51, 'Poverty Rate': 10.239455776197731, 'Unemployment Rate': 4.486009613483982, 'Total Vaccines Distributed': 13560485, 'Total Vaccines Administered': 11525647, 'Total Vaccinated': 5349949, 'Percent Vaccinated': 62.7, 'Boosters Administered': 390330, 'Additional Doses Pct': 7.3}\n",
      "{'_id': ObjectId('617da25cf6a68099861610f4'), 'State': 'Washington', 'State Abrev': 'WA', 'Total Population': 7404107.0, 'Total Labor Force': 3834480.0, 'Total Unemployed': 187330.0, 'Total Poverty': 785244.0, 'State Number': 53, 'Poverty Rate': 10.6055193421705, 'Unemployment Rate': 4.885408190941145, 'Total Vaccines Distributed': 12133655, 'Total Vaccines Administered': 10107737, 'Total Vaccinated': 4798342, 'Percent Vaccinated': 63.0, 'Boosters Administered': 346046, 'Additional Doses Pct': 7.2}\n",
      "{'_id': ObjectId('617da25cf6a68099861610f5'), 'State': 'West Virginia', 'State Abrev': 'WV', 'Total Population': 1817305.0, 'Total Labor Force': 794126.0, 'Total Unemployed': 51910.0, 'Total Poverty': 310044.0, 'State Number': 54, 'Poverty Rate': 17.06064749725555, 'Unemployment Rate': 6.536746057930354, 'Total Vaccines Distributed': 3121575, 'Total Vaccines Administered': 1587090, 'Total Vaccinated': 734280, 'Percent Vaccinated': 41.0, 'Boosters Administered': 41938, 'Additional Doses Pct': 5.7}\n",
      "{'_id': ObjectId('617da25cf6a68099861610f6'), 'State': 'Wisconsin', 'State Abrev': 'WI', 'Total Population': 5790716.0, 'Total Labor Force': 3097113.0, 'Total Unemployed': 111564.0, 'Total Poverty': 639160.0, 'State Number': 55, 'Poverty Rate': 11.037667880794016, 'Unemployment Rate': 3.602193397528602, 'Total Vaccines Distributed': 8043745, 'Total Vaccines Administered': 7214379, 'Total Vaccinated': 3377995, 'Percent Vaccinated': 58.0, 'Boosters Administered': 329544, 'Additional Doses Pct': 9.8}\n",
      "{'_id': ObjectId('617da25cf6a68099861610f7'), 'State': 'Wyoming', 'State Abrev': 'WY', 'Total Population': 581024.0, 'Total Labor Force': 305004.0, 'Total Unemployed': 13544.0, 'Total Poverty': 62257.0, 'State Number': 56, 'Poverty Rate': 10.715047915404528, 'Unemployment Rate': 4.440597500360651, 'Total Vaccines Distributed': 716045, 'Total Vaccines Administered': 557481, 'Total Vaccinated': 251741, 'Percent Vaccinated': 43.5, 'Boosters Administered': 23369, 'Additional Doses Pct': 9.3}\n"
     ]
    }
   ],
   "source": [
    "results = statevacc.find()\n",
    "for result in results:\n",
    "    print(result)"
   ]
  },
  {
   "cell_type": "code",
   "execution_count": null,
   "id": "9e4d3b5f",
   "metadata": {},
   "outputs": [],
   "source": []
  },
  {
   "cell_type": "code",
   "execution_count": null,
   "id": "6dfdefa1",
   "metadata": {},
   "outputs": [],
   "source": []
  }
 ],
 "metadata": {
  "kernelspec": {
   "display_name": "Python 3",
   "language": "python",
   "name": "python3"
  },
  "language_info": {
   "codemirror_mode": {
    "name": "ipython",
    "version": 3
   },
   "file_extension": ".py",
   "mimetype": "text/x-python",
   "name": "python",
   "nbconvert_exporter": "python",
   "pygments_lexer": "ipython3",
   "version": "3.8.8"
  }
 },
 "nbformat": 4,
 "nbformat_minor": 5
}
